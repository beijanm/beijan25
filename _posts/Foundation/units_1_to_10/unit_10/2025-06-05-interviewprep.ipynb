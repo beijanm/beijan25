{
 "cells": [
  {
   "cell_type": "markdown",
   "metadata": {},
   "source": [
    "---\n",
    "layout: post\n",
    "title: Senior Checkout Interview\n",
    "courses: {'csa': {'week': 7}}\n",
    "type: ccc \n",
    "comments: true\n",
    "permalink: /prep\n",
    "---"
   ]
  },
  {
   "cell_type": "markdown",
   "metadata": {},
   "source": [
    "# About Me\n",
    "\n",
    "Hi, I’m Beijan — a high school student with a strong passion for Computer Science. I'm fascinated by how coding can be used to solve real-world problems and make a difference in people’s lives. Whether it’s building apps to help others or creating tools for my school, I see technology as a way to empower and uplift.\n",
    "\n",
    "# Projects Overview & Team Collaboration\n",
    "\n",
    "## Team Teach Toolkit  \n",
    "**Role:** Full Stack Developer  \n",
    "- Partnered with another developer to build a web platform for keeping track of bathroom visits online.\n",
    "- Teachers can see who is out at the .\n",
    "- Students can sign out to the bathrrom using their ID.\n",
    "\n",
    "# Teamwork Methodologies & Artifacts\n",
    "\n",
    "- Worked in **Scrum-led classrooms** using Trello and GitHub Projects to manage timelines.\n",
    "- Practiced **Agile** principles: daily standups, retrospectives, and MVP-first development.\n",
    "- Collaborated on UI/UX with Figma and Lucidchart.\n",
    "- Created detailed READMEs and demo videos for async communication.\n",
    "\n",
    "# Things I Learned Along The Way\n",
    "\n",
    "| Layer     | Tech Stack                                 |\n",
    "|-----------|--------------------------------------------|\n",
    "| Frontend  | HTML5, Tailwind CSS, JavaScript, React     |\n",
    "| Backend   | Java, Spring Boot, Python (Flask)          |\n",
    "| Database  | SQLite, MySQL                              |\n",
    "| Tools     | Git, GitHub, Postman, Figma, Maven, VS Code|\n",
    "\n",
    "# Showcasing Projects\n",
    "\n",
    "- Presented **Seed Tracker** at **Night at the Museum**, Del Norte High School’s tech showcase.\n",
    "- Led a live demo for CS teachers and student leaders.\n",
    "\n",
    "# Notable Strengths\n",
    "\n",
    "- Able to explain coding topics to both tech focused and general audiences.\n",
    "- Experienced in Agile/Scrum team environments and collaborative development.\n",
    "- Skilled in giving live tech demos and presentations.\n",
    "- Adaptable and team-oriented, comfortable working with diverse peers and mentors.\n"
   ]
  }
 ],
 "metadata": {
  "language_info": {
   "name": "python"
  },
  "orig_nbformat": 4
 },
 "nbformat": 4,
 "nbformat_minor": 2
}
