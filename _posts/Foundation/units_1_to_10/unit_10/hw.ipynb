{
 "cells": [
  {
   "cell_type": "code",
   "execution_count": 2,
   "metadata": {},
   "outputs": [
    {
     "data": {
      "text/plain": [
       "5"
      ]
     },
     "execution_count": 2,
     "metadata": {},
     "output_type": "execute_result"
    }
   ],
   "source": [
    "public int countWays(int n) {\n",
    "    if (n == 0) return 1;\n",
    "    if (n < 0) return 0;\n",
    "    return countWays(n - 1) + countWays(n - 2);\n",
    "}\n",
    "\n",
    "countWays(4)"
   ]
  },
  {
   "cell_type": "markdown",
   "metadata": {},
   "source": [
    "countWays(3) calls countWays(2) and countWays(1)\n",
    "countWays(2) calls countWays(1) and countWays(0)\n",
    "countWays(1) calls countWays(0) and countWays(-1)\n",
    "\n",
    "countWays(0) returns 1\n",
    "countWays(-1) returns 0\n",
    "countWays(1) returns 1\n",
    "countWays(0) returns 1\n",
    "countWays(2) returns 2\n",
    "countWays(1) (again) returns 1\n",
    "countWays(3) returns 3"
   ]
  },
  {
   "cell_type": "code",
   "execution_count": 8,
   "metadata": {},
   "outputs": [],
   "source": [
    "public int countWaysVariableSteps(int n, int[] steps) {\n",
    "    if (n == 0) return 1;\n",
    "    if (n < 0) return 0;\n",
    "    int total = 0;\n",
    "    for (int step : steps) {\n",
    "        total += countWaysVariableSteps(n - step, steps);\n",
    "    }\n",
    "    return total;\n",
    "}\n"
   ]
  },
  {
   "cell_type": "code",
   "execution_count": null,
   "metadata": {},
   "outputs": [],
   "source": [
    "public static boolean isNonZeroRow(int[][] array2D, int r) {\n",
    "    for (int i = 0; i < array2D[r].length; i++) {\n",
    "        if (array2D[r][i] == 0) {\n",
    "            return false;\n",
    "        }\n",
    "    }\n",
    "    return true;\n",
    "}\n",
    "\n",
    "\n",
    "public static int[][] resize(int[][] array2D) {\n",
    "    int count = numNonZeroRows(array2D); // Get the number of valid rows\n",
    "    int[][] newArray = new int[count][]; // Create new 2D array with required rows\n",
    "\n",
    "    int index = 0;\n",
    "    for (int i = 0; i < array2D.length; i++) {\n",
    "        if (isNonZeroRow(array2D, i)) {\n",
    "            newArray[index] = array2D[i]; // Copy row\n",
    "            index++;\n",
    "        }\n",
    "    }\n",
    "    return newArray;\n",
    "}\n"
   ]
  }
 ],
 "metadata": {
  "kernelspec": {
   "display_name": "java (IJava/j!)",
   "language": "java",
   "name": "jbang-ijava"
  },
  "language_info": {
   "codemirror_mode": "java",
   "file_extension": ".jshell",
   "mimetype": "text/x-java-source",
   "name": "java",
   "pygments_lexer": "java",
   "version": "17.0.12+8-LTS-286"
  },
  "orig_nbformat": 4
 },
 "nbformat": 4,
 "nbformat_minor": 2
}
