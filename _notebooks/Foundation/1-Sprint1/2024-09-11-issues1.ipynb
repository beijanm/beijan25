{
 "cells": [
  {
   "cell_type": "raw",
   "metadata": {},
   "source": [
    "---\n",
    "layout: post\n",
    "title: Sprint1 Issues\n",
    "description: This notebook is meant to reflect on issues encountered when trying to complete the first sprint so that I can learn from them.\n",
    "categories: [SASS]\n",
    "toc: true\n",
    "comments: true\n",
    "---"
   ]
  },
  {
   "cell_type": "markdown",
   "metadata": {},
   "source": [
    "## Issues I Have Encountered\n",
    "\n",
    "- The first Issue I have encountered is the newspaper module from article library not being identified and therefore, I am not able to run cell of code that extracts data from wikipedia.\n",
    "<img width=\"1284\" alt=\"Screenshot 2024-09-11 at 9 37 08 AM\" src=\"https://github.com/user-attachments/assets/49d46704-a4d5-4073-8652-7249bb6f1988\">\n",
    "\n",
    "\n"
   ]
  }
 ],
 "metadata": {
  "language_info": {
   "name": "python"
  },
  "orig_nbformat": 4
 },
 "nbformat": 4,
 "nbformat_minor": 2
}
