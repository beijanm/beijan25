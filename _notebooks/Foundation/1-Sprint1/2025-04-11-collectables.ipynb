{
 "cells": [
  {
   "cell_type": "code",
   "execution_count": 3,
   "metadata": {
    "vscode": {
     "languageId": "java"
    }
   },
   "outputs": [
    {
     "data": {
      "text/plain": [
       "[6, 8, 10, 12, 22]"
      ]
     },
     "execution_count": 3,
     "metadata": {},
     "output_type": "execute_result"
    }
   ],
   "source": [
    "import java.util.ArrayList;\n",
    "import java.util.Collections;\n",
    "import java.util.List;\n",
    "import java.util.stream.Collectors;\n",
    "\n",
    "// Create an ArrayList of integers\n",
    "ArrayList<Integer> numbers = new ArrayList<>();\n",
    "numbers.add(7);\n",
    "numbers.add(12);\n",
    "numbers.add(3);\n",
    "numbers.add(8);\n",
    "numbers.add(15);\n",
    "numbers.add(22);\n",
    "numbers.add(1);\n",
    "numbers.add(10);\n",
    "numbers.add(5);\n",
    "numbers.add(6);\n",
    "\n",
    "// Sort the list in ascending order\n",
    "Collections.sort(numbers);\n",
    "\n",
    "// Filter out odd numbers\n",
    "List<Integer> evenNumbers = numbers.stream()\n",
    "    .filter(n -> n % 2 == 0)\n",
    "    .collect(Collectors.toList());\n",
    "\n",
    "\n",
    "evenNumbers;\n",
    "\n"
   ]
  },
  {
   "cell_type": "code",
   "execution_count": 5,
   "metadata": {
    "vscode": {
     "languageId": "java"
    }
   },
   "outputs": [
    {
     "name": "stdout",
     "output_type": "stream",
     "text": [
      "Enter a name to search: Phone number: 234-567-8901\n"
     ]
    }
   ],
   "source": [
    "import java.util.HashMap;\n",
    "import java.util.Scanner;\n",
    "\n",
    "// Create a HashMap\n",
    "HashMap<String, String> phoneBook = new HashMap<>();\n",
    "\n",
    "// Add 5 entries\n",
    "phoneBook.put(\"Alice\", \"123-456-7890\");\n",
    "phoneBook.put(\"Bob\", \"234-567-8901\");\n",
    "phoneBook.put(\"Charlie\", \"345-678-9012\");\n",
    "phoneBook.put(\"Diana\", \"456-789-0123\");\n",
    "phoneBook.put(\"Ethan\", \"567-890-1234\");\n",
    "\n",
    "// Search method\n",
    "Scanner scanner = new Scanner(System.in);\n",
    "System.out.print(\"Enter a name to search: \");\n",
    "String name = scanner.nextLine();\n",
    "\n",
    "if (phoneBook.containsKey(name)) {\n",
    "    System.out.println(\"Phone number: \" + phoneBook.get(name));\n",
    "} else {\n",
    "    System.out.println(\"Name not found.\");\n",
    "}\n"
   ]
  },
  {
   "cell_type": "code",
   "execution_count": 6,
   "metadata": {
    "vscode": {
     "languageId": "java"
    }
   },
   "outputs": [
    {
     "data": {
      "text/plain": [
       "[Cherry, Apple, Banana]"
      ]
     },
     "execution_count": 6,
     "metadata": {},
     "output_type": "execute_result"
    }
   ],
   "source": [
    "import java.util.ArrayDeque;\n",
    "\n",
    "// Create the deque\n",
    "ArrayDeque<String> deque = new ArrayDeque<>();\n",
    "\n",
    "// Add elements\n",
    "deque.addFirst(\"Apple\");\n",
    "deque.addLast(\"Banana\");\n",
    "deque.addFirst(\"Cherry\");\n",
    "deque.addLast(\"Date\");\n",
    "deque.addFirst(\"Elderberry\");\n",
    "\n",
    "// Remove one element from each end\n",
    "deque.removeFirst(); // removes \"Elderberry\"\n",
    "deque.removeLast();  // removes \"Date\"\n",
    "\n",
    "// Print the contents\n",
    "deque; // In Jupyter, this will automatically display the deque\n"
   ]
  }
 ],
 "metadata": {
  "kernelspec": {
   "display_name": "java (IJava/j!)",
   "language": "java",
   "name": "jbang-ijava"
  },
  "language_info": {
   "codemirror_mode": "java",
   "file_extension": ".jshell",
   "mimetype": "text/x-java-source",
   "name": "Java",
   "pygments_lexer": "java",
   "version": "17.0.12+8-LTS-286"
  },
  "orig_nbformat": 4
 },
 "nbformat": 4,
 "nbformat_minor": 2
}
