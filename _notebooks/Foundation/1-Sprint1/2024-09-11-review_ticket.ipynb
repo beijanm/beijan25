{
 "cells": [
  {
   "cell_type": "raw",
   "metadata": {},
   "source": [
    "---\n",
    "layout: post\n",
    "title: Sprint1 Review Ticket\n",
    "description: Collection of my hacks\n",
    "categories: [SASS]\n",
    "toc: true\n",
    "comments: true\n",
    "---"
   ]
  },
  {
   "cell_type": "markdown",
   "metadata": {},
   "source": [
    "## Sprint 1 Review Ticket\n",
    "- [Jupyter Notebook Python](/beijan25/jupyter/notebook/python)\n",
    "- [Frontend Basics](/beijan25/frontend/basics/playground)\n",
    "- [Github Pages Hacks](/beijan25/github/pages/hacks)\n",
    "- [SASS Basics](/beijan25/sass_basics/play)\n",
    "- [Planning Doc](./2024-09-10-planning-doc.ipynb)\n",
    "- [Sprint 1 Issues](https://beijanm.github.io/beijan25/sass/2024/09/11/issues1_IPYNB_2_.html)"
   ]
  }
 ],
 "metadata": {
  "language_info": {
   "name": "python"
  },
  "orig_nbformat": 4
 },
 "nbformat": 4,
 "nbformat_minor": 2
}
