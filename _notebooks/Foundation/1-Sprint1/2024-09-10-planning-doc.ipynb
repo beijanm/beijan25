{
 "cells": [
  {
   "cell_type": "raw",
   "metadata": {},
   "source": [
    "---\n",
    "layout: post\n",
    "title: Sprint 1 Planning Document\n",
    "description:  Basic planning Doc to use for sprints\n",
    "categories: [SASS]\n",
    "type: issues \n",
    "comments: true\n",
    "---"
   ]
  },
  {
   "cell_type": "code",
   "execution_count": null,
   "metadata": {},
   "outputs": [],
   "source": [
    "# planning_document.ipynb\n",
    "\n",
    "{\n",
    " \"cells\": [\n",
    "  {\n",
    "   \"cell_type\": \"markdown\",\n",
    "   \"metadata\": {},\n",
    "   \"source\": [\n",
    "    \"# Planning Document\\n\",\n",
    "    \"## Goals for the Project\\n\",\n",
    "    \"- Setup GitHub Pages.\\n\",\n",
    "    \"- Create a JavaScript cell experiment.\\n\",\n",
    "    \"- Set up an About Me page.\\n\",\n",
    "    \"- Incorporate Utterances for feedback.\\n\",\n",
    "    \"\\n\",\n",
    "    \"## Accomplishments\\n\",\n",
    "    \"- Successfully set up GitHub Pages and linked notebooks.\\n\",\n",
    "    \"- Created a simple JavaScript cell.\\n\",\n",
    "    \"- Wrote the About Me page.\\n\",\n",
    "    \"- Integrated Utterances for commenting.\"\n",
    "   ]\n",
    "  }\n",
    " ]\n",
    "}\n"
   ]
  }
 ],
 "metadata": {
  "language_info": {
   "name": "python"
  },
  "orig_nbformat": 4
 },
 "nbformat": 4,
 "nbformat_minor": 2
}
