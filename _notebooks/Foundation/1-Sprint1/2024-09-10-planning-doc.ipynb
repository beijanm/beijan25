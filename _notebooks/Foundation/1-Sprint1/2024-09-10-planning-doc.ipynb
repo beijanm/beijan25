{
 "cells": [
  {
   "cell_type": "raw",
   "metadata": {},
   "source": [
    "---\n",
    "layout: post\n",
    "title: Sprint 1 Planning Document\n",
    "description:  Basic planning Doc to use for sprints\n",
    "categories: [SASS]\n",
    "type: issues \n",
    "comments: true\n",
    "---"
   ]
  },
  {
   "cell_type": "markdown",
   "metadata": {},
   "source": [
    "# Planning Document\n",
    "\n",
    "## Goals for the Sprint\n",
    "- Finish all the hacks\n",
    "- Make an about me that reflecs who I am\n",
    "- Make a pair programming project\n",
    "\n",
    "## Accomplishments\n",
    "- Successfully finished most hacks but with a few issues that I still am stuck on\n",
    "- Finished the pair programming project\n",
    "- Pretty good about me reflecting who I am\n",
    "\n"
   ]
  }
 ],
 "metadata": {
  "kernelspec": {
   "display_name": "venv",
   "language": "python",
   "name": "python3"
  },
  "language_info": {
   "codemirror_mode": {
    "name": "ipython",
    "version": 3
   },
   "file_extension": ".py",
   "mimetype": "text/x-python",
   "name": "python",
   "nbconvert_exporter": "python",
   "pygments_lexer": "ipython3",
   "version": "3.12.5"
  },
  "orig_nbformat": 4
 },
 "nbformat": 4,
 "nbformat_minor": 2
}
