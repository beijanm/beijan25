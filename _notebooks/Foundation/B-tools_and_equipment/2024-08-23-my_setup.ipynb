{
 "cells": [
  {
   "cell_type": "raw",
   "metadata": {},
   "source": [
    "---\n",
    "layout: post\n",
    "title: My Setup Journey\n",
    "description: This is my setup journey to get the tools needed for Computer Science A\n",
    "categories: [DevOps]\n",
    "permalink: /devops/tools/journey\n",
    "author: Beijan Moniza\n",
    "menu: nav/tools_setup.html\n",
    "toc: true\n",
    "comments: true\n",
    "sticky_rank: 2\n",
    "---"
   ]
  },
  {
   "cell_type": "markdown",
   "metadata": {},
   "source": [
    "# My Setup Journey\n",
    "In this blog I will be showing how I set up the various tools needed to be successful in Computer Science A\n",
    "\n",
    "## Introduction\n",
    "- First I will start with the basics. Slack and Github are the core of Computer science as Slack helps people to communicate and github is used to keep all the code in repositories.\n",
    "![]({{ site.baseurl }}/images/notebooks/foundation/slack_announcement.png)\n",
    "![]({{ site.baseurl }}/images/notebooks/foundation/Github_home.png)\n",
    "- The third tool that we will be using a lot is AI, more specifically Github Copilot as well as Chat GPT. I really like using ChatGpt to help me debug code and help me solve problems that my peers couldn't help me with.\n",
    "![]({{ site.baseurl }}/images/notebooks/foundation/chatgpt.png)"
   ]
  },
  {
   "cell_type": "markdown",
   "metadata": {},
   "source": [
    "## Tools Installation\n",
    "- How are the files from GitHub placed on your local machine? How do you navigate to those files?\n",
    "    - You use the git clone command to get the files on vscode.\n",
    "- How are the files updated in GitHub? How do you navigate to those files?\n",
    "    - By comitting and pushing changes from vscode to github.\n",
    "- How would you update your template of the portfolio_2025 repository? How would you make it more applicable to your specific course?\n",
    "    - I would cahnge the baseurl in the config file and I would also change the name in the make file as well.\n",
    "- What is the localhost URL for your project? Can anyone else see what you see?\n",
    "    - Nobody else can see what I see on my localhost. The Url for my localhost is http://127.0.0.1:4100/beijan25/\n",
    "- What is the GitHub Pages URL for your project? Can anyone else see what you see?\n",
    "    - The Github Pages URL for my project is https://beijanm.github.io/beijan25/\n",
    "- Is there a domain on your GitHub Pages?\n",
    "    Yes there is a domain on my github pages\n",
    "- Is the URL for your GitHub Pages different from your neighbors’ URLs? Did you change the URL? If so, when?\n",
    "    - Yes they are different than my neighbors."
   ]
  }
 ],
 "metadata": {
  "language_info": {
   "name": "python"
  },
  "orig_nbformat": 4
 },
 "nbformat": 4,
 "nbformat_minor": 2
}
